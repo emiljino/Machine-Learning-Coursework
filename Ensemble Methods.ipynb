{
 "cells": [
  {
   "cell_type": "code",
   "execution_count": 3,
   "id": "ed168806",
   "metadata": {},
   "outputs": [
    {
     "name": "stdout",
     "output_type": "stream",
     "text": [
      "%pylab is deprecated, use %matplotlib inline and import the required libraries.\n",
      "Populating the interactive namespace from numpy and matplotlib\n"
     ]
    }
   ],
   "source": [
    "%pylab inline\n",
    "\n",
    "import numpy as np\n",
    "import matplotlib.pyplot as plt\n",
    "import sklearn\n",
    "from sklearn import datasets\n",
    "from sklearn.model_selection import train_test_split\n",
    "from sklearn.datasets import fetch_openml\n",
    "from sklearn.model_selection import GridSearchCV, RandomizedSearchCV\n",
    "from sklearn.tree import plot_tree\n",
    "from sklearn.tree import DecisionTreeClassifier\n",
    "from sklearn.metrics import accuracy_score\n",
    "from sklearn.tree import DecisionTreeRegressor\n",
    "import graphviz\n",
    "from skimage import io\n",
    "from sklearn.datasets import fetch_california_housing\n",
    "from sklearn.preprocessing import StandardScaler\n",
    "from sklearn.model_selection import train_test_split\n",
    "from sklearn.linear_model import LinearRegression\n",
    "from sklearn.metrics import mean_squared_error\n",
    "from sklearn.ensemble import StackingRegressor\n"
   ]
  },
  {
   "cell_type": "markdown",
   "id": "d0f33b96",
   "metadata": {},
   "source": [
    "# Some code from lab sheets"
   ]
  },
  {
   "cell_type": "code",
   "execution_count": 4,
   "id": "9ea82ac9",
   "metadata": {},
   "outputs": [],
   "source": [
    "dataset = fetch_california_housing()\n",
    "#\n",
    "X = np.array(dataset['data'])\n",
    "y = np.array(dataset['target'])\n",
    "\n",
    "\n",
    "X_train, X_test, y_train, y_test = train_test_split(X, y, test_size=0.2) \n",
    "scaler = StandardScaler()\n",
    "X_train_std = scaler.fit_transform(X_train)\n",
    "X_test_std = scaler.fit_transform(X_test)"
   ]
  },
  {
   "cell_type": "code",
   "execution_count": 14,
   "id": "89d12cd8",
   "metadata": {},
   "outputs": [
    {
     "name": "stdout",
     "output_type": "stream",
     "text": [
      "Train score: 0.9054939779528323\n",
      "Test score: 0.7187417506360869\n"
     ]
    }
   ],
   "source": [
    "# Train two base models on the training set: a decision tree regressor and a linear regression model\n",
    "base_model_1 = DecisionTreeRegressor().fit(X_train, y_train)\n",
    "base_model_2 = LinearRegression().fit(X_train, y_train)\n",
    "\n",
    "# Use the StackingRegressor to combine the predictions of the base models using a linear regression meta-model\n",
    "meta_model = LinearRegression()\n",
    "stacking_model = StackingRegressor(estimators=[('dt', base_model_1), ('lr', base_model_2)], final_estimator=meta_model)\n",
    "stacking_model.fit(X_train, y_train)\n",
    "\n",
    "# Evaluate the performance of the stacking model on the test set\n",
    "train_score = stacking_model.score(X_train, y_train)\n",
    "test_score = stacking_model.score(X_test, y_test)\n",
    "print('Train score:', train_score)\n",
    "print('Test score:', test_score)"
   ]
  },
  {
   "cell_type": "code",
   "execution_count": 6,
   "id": "c01a12c4",
   "metadata": {},
   "outputs": [
    {
     "data": {
      "text/plain": [
       "{'cv': None,\n",
       " 'estimators': [('dt', DecisionTreeRegressor()), ('lr', LinearRegression())],\n",
       " 'final_estimator__copy_X': True,\n",
       " 'final_estimator__fit_intercept': True,\n",
       " 'final_estimator__n_jobs': None,\n",
       " 'final_estimator__normalize': 'deprecated',\n",
       " 'final_estimator__positive': False,\n",
       " 'final_estimator': LinearRegression(),\n",
       " 'n_jobs': None,\n",
       " 'passthrough': False,\n",
       " 'verbose': 0,\n",
       " 'dt': DecisionTreeRegressor(),\n",
       " 'lr': LinearRegression(),\n",
       " 'dt__ccp_alpha': 0.0,\n",
       " 'dt__criterion': 'squared_error',\n",
       " 'dt__max_depth': None,\n",
       " 'dt__max_features': None,\n",
       " 'dt__max_leaf_nodes': None,\n",
       " 'dt__min_impurity_decrease': 0.0,\n",
       " 'dt__min_samples_leaf': 1,\n",
       " 'dt__min_samples_split': 2,\n",
       " 'dt__min_weight_fraction_leaf': 0.0,\n",
       " 'dt__random_state': None,\n",
       " 'dt__splitter': 'best',\n",
       " 'lr__copy_X': True,\n",
       " 'lr__fit_intercept': True,\n",
       " 'lr__n_jobs': None,\n",
       " 'lr__normalize': 'deprecated',\n",
       " 'lr__positive': False}"
      ]
     },
     "execution_count": 6,
     "metadata": {},
     "output_type": "execute_result"
    }
   ],
   "source": [
    "stacking_model.get_params()"
   ]
  },
  {
   "cell_type": "code",
   "execution_count": 8,
   "id": "16cb0817",
   "metadata": {},
   "outputs": [
    {
     "data": {
      "image/png": "[encoded data removed]",
      "text/plain": [
       "<Figure size 432x288 with 1 Axes>"
      ]
     },
     "metadata": {
      "needs_background": "light"
     },
     "output_type": "display_data"
    }
   ],
   "source": [
    "# Train a stacking model with a varying number of base models and evaluate its performance\n",
    "num_base_models = [1, 2, 4, 8, 16, 32]\n",
    "mean_test_scores = []\n",
    "std_test_scores = []\n",
    "\n",
    "for num_models in num_base_models:\n",
    "  # Train the stacking model with the specified number of base models\n",
    "  stacking_model = StackingRegressor(estimators=[('dt', base_model_1), ('lr', base_model_2)], final_estimator=meta_model)\n",
    "  stacking_model.fit(X_train, y_train)\n",
    "\n",
    "  # Evaluate the performance of the stacking model on the test set\n",
    "  test_score = stacking_model.score(X_test, y_test)\n",
    "\n",
    "  # Record the mean and standard deviation of the test score\n",
    "  mean_test_scores.append(np.mean(test_score))\n",
    "  std_test_scores.append(np.std(test_score))\n",
    "\n",
    "# Plot the mean squared error as a function of the number of base models\n",
    "plt.errorbar(num_base_models, mean_test_scores, yerr=std_test_scores)\n",
    "plt.xlabel('Number of Base Models')\n",
    "plt.ylabel('Mean Squared Error')\n",
    "plt.show()\n",
    "\n"
   ]
  },
  {
   "cell_type": "code",
   "execution_count": null,
   "id": "eb398b11",
   "metadata": {},
   "outputs": [],
   "source": []
  },
  {
   "cell_type": "code",
   "execution_count": 9,
   "id": "443efe38",
   "metadata": {},
   "outputs": [
    {
     "data": {
      "text/plain": [
       "1.0"
      ]
     },
     "execution_count": 9,
     "metadata": {},
     "output_type": "execute_result"
    }
   ],
   "source": [
    "onlyDTR = DecisionTreeRegressor().fit(X_train, y_train)\n",
    "onlyDTR.score(X_train, y_train)"
   ]
  },
  {
   "cell_type": "code",
   "execution_count": 10,
   "id": "4dedd007",
   "metadata": {},
   "outputs": [
    {
     "data": {
      "text/plain": [
       "0.6241197941853113"
      ]
     },
     "execution_count": 10,
     "metadata": {},
     "output_type": "execute_result"
    }
   ],
   "source": [
    "\n",
    "onlyDTR.score(X_test, y_test)"
   ]
  },
  {
   "cell_type": "code",
   "execution_count": 11,
   "id": "f8bfc988",
   "metadata": {},
   "outputs": [
    {
     "data": {
      "text/plain": [
       "0.6061685949692596"
      ]
     },
     "execution_count": 11,
     "metadata": {},
     "output_type": "execute_result"
    }
   ],
   "source": [
    "onlyLR = LinearRegression().fit(X_train, y_train)\n",
    "onlyLR.score(X_train, y_train)"
   ]
  },
  {
   "cell_type": "code",
   "execution_count": 12,
   "id": "2e0c94cd",
   "metadata": {},
   "outputs": [
    {
     "data": {
      "text/plain": [
       "0.6060585168245565"
      ]
     },
     "execution_count": 12,
     "metadata": {},
     "output_type": "execute_result"
    }
   ],
   "source": [
    "onlyLR.score(X_test, y_test)"
   ]
  }
 ],
 "metadata": {
  "kernelspec": {
   "display_name": "Python 3 (ipykernel)",
   "language": "python",
   "name": "python3"
  },
  "language_info": {
   "codemirror_mode": {
    "name": "ipython",
    "version": 3
   },
   "file_extension": ".py",
   "mimetype": "text/x-python",
   "name": "python",
   "nbconvert_exporter": "python",
   "pygments_lexer": "ipython3",
   "version": "3.9.12"
  }
 },
 "nbformat": 4,
 "nbformat_minor": 5
}
