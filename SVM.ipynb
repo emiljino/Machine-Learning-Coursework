{
 "cells": [
  {
   "cell_type": "code",
   "execution_count": 43,
   "id": "82358cc0",
   "metadata": {},
   "outputs": [],
   "source": [
    "import numpy as np\n",
    "import matplotlib.pyplot as plt\n",
    "from matplotlib.colors import LogNorm\n",
    "%matplotlib inline\n",
    "from sklearn.linear_model import LinearRegression, LogisticRegression\n",
    "from sklearn.preprocessing import PolynomialFeatures\n",
    "from sklearn.neural_network import MLPClassifier\n",
    "from sklearn.metrics import plot_confusion_matrix\n",
    "from sklearn.model_selection import GridSearchCV, RandomizedSearchCV\n",
    "from subprocess import check_output\n",
    "from sklearn.model_selection import learning_curve, RandomizedSearchCV\n",
    "from sklearn.preprocessing import StandardScaler\n",
    "from keras.utils import to_categorical\n",
    "from sklearn.model_selection import train_test_split\n",
    "from sklearn.decomposition import KernelPCA, PCA\n",
    "import pandas as pd\n",
    "import seaborn as sns\n",
    "from skimage import io\n",
    "from sklearn.inspection import DecisionBoundaryDisplay\n",
    "from sklearn.metrics import mean_squared_error\n",
    "import scipy\n",
    "from matplotlib.colors import ListedColormap\n",
    "from sklearn.metrics import plot_confusion_matrix\n",
    "import h5py\n",
    "import tensorflow as tf\n",
    "from sklearn.svm import SVC\n",
    "from utils import * # image processing functions from utils.py\n",
    "import time"
   ]
  },
  {
   "cell_type": "markdown",
   "id": "ec0a2c6f",
   "metadata": {},
   "source": [
    "# Some code from lab sheets"
   ]
  },
  {
   "cell_type": "code",
   "execution_count": 2,
   "id": "077ee3c7",
   "metadata": {},
   "outputs": [],
   "source": [
    "fashion_mnist = tf.keras.datasets.fashion_mnist\n",
    "#data = fashion_mnist.load_data()\n",
    "(X_train, Y_train), (X_test, Y_test) = fashion_mnist.load_data()"
   ]
  },
  {
   "cell_type": "code",
   "execution_count": 3,
   "id": "53fbc57b",
   "metadata": {},
   "outputs": [
    {
     "name": "stdout",
     "output_type": "stream",
     "text": [
      "(10000, 28, 28)\n",
      "(10000,)\n"
     ]
    }
   ],
   "source": [
    "X_train= X_train[:10000]\n",
    "Y_train= Y_train[:10000]\n",
    "\n",
    "print(X_train.shape)\n",
    "print(Y_train.shape)\n",
    "\n"
   ]
  },
  {
   "cell_type": "code",
   "execution_count": 4,
   "id": "23115430",
   "metadata": {},
   "outputs": [
    {
     "name": "stdout",
     "output_type": "stream",
     "text": [
      "(10000, 784)\n",
      "(10000, 784)\n"
     ]
    }
   ],
   "source": [
    "X_train_reshaped = X_train.reshape(X_train.shape[0], -1)\n",
    "#X_train_lol = X_train.reshape(X_train.shape[1], -1)\n",
    "X_test_reshaped = X_test.reshape(X_test.shape[0], -1)\n",
    "print(X_train_reshaped.shape)\n",
    "print(X_test_reshaped.shape)\n"
   ]
  },
  {
   "cell_type": "code",
   "execution_count": 5,
   "id": "fe33d644",
   "metadata": {},
   "outputs": [
    {
     "name": "stdout",
     "output_type": "stream",
     "text": [
      "(10000, 784)\n"
     ]
    }
   ],
   "source": [
    "X_train_std = StandardScaler().fit_transform(X_train_reshaped)\n",
    "X_test_std = StandardScaler().fit_transform(X_test_reshaped)\n",
    "print(X_train_std.shape)"
   ]
  },
  {
   "cell_type": "code",
   "execution_count": 8,
   "id": "7f5234f0",
   "metadata": {},
   "outputs": [],
   "source": [
    "#X_train_2 = X_train_scaled[:, :2]\n",
    "#X_test_2 = X_test_scaled[:, :2]\n",
    "#print(X_train_2.shape)\n",
    "#print(X_test_2.shape)"
   ]
  },
  {
   "cell_type": "code",
   "execution_count": 6,
   "id": "866cce66",
   "metadata": {},
   "outputs": [],
   "source": [
    "def plot_clf(clf):\n",
    "    h = 0.01\n",
    "    xx, yy = np.meshgrid(np.arange(-5, 4, h), np.arange(-2, 7, h))\n",
    "    Z = clf.predict(np.c_[xx.ravel(), yy.ravel()])\n",
    "    Z = Z.reshape(xx.shape)\n",
    "    fig, ax = plt.subplots(figsize=(7, 5))\n",
    "    ax.pcolormesh(xx, yy, Z, cmap=plt.cm.Paired, shading='auto')\n",
    "    ax.scatter(x1,y1)\n",
    "    ax.scatter(x2,y2)\n",
    "    ax.set_xlim([-5,4])\n",
    "    ax.set_ylim([-2,7])\n",
    "    ax.set_xlabel('X')\n",
    "    ax.set_ylabel('y')"
   ]
  },
  {
   "cell_type": "code",
   "execution_count": 7,
   "id": "6490616d",
   "metadata": {},
   "outputs": [
    {
     "name": "stdout",
     "output_type": "stream",
     "text": [
      "(10000, 784)\n",
      "(10000, 784)\n"
     ]
    }
   ],
   "source": [
    "print(X_train_std.shape)\n",
    "print(X_test_std.shape)"
   ]
  },
  {
   "cell_type": "code",
   "execution_count": 8,
   "id": "94f8f3e8",
   "metadata": {},
   "outputs": [],
   "source": [
    "pca = PCA(n_components=2, random_state=0)\n",
    "X_pca = pca.fit_transform(X_train_std)\n",
    "X_pca_test = pca.fit_transform(X_test_std)"
   ]
  },
  {
   "cell_type": "code",
   "execution_count": 11,
   "id": "ab80e5fb",
   "metadata": {},
   "outputs": [],
   "source": [
    "#x_min, x_max = X_pca[:, 0].min() - .5, X_pca[:, 0].max() + .5\n",
    "#y_min, y_max = X_pca[:, 1].min() - .5, X_pca[:, 1].max() + .5\n",
    "#h = .02  # step size in the mesh\n",
    "#xx, yy = np.meshgrid(np.arange(x_min, x_max, h), np.arange(y_min, y_max, h))"
   ]
  },
  {
   "cell_type": "code",
   "execution_count": 9,
   "id": "21b8975b",
   "metadata": {},
   "outputs": [
    {
     "name": "stdout",
     "output_type": "stream",
     "text": [
      "SVM classifier accuracy: (0.9714, 0.8647)\n"
     ]
    },
    {
     "name": "stderr",
     "output_type": "stream",
     "text": [
      "/Users/emiljino/.local/lib/python3.9/site-packages/sklearn/utils/deprecation.py:87: FutureWarning: Function plot_confusion_matrix is deprecated; Function `plot_confusion_matrix` is deprecated in 1.0 and will be removed in 1.2. Use one of the class methods: ConfusionMatrixDisplay.from_predictions or ConfusionMatrixDisplay.from_estimator.\n",
      "  warnings.warn(msg, category=FutureWarning)\n"
     ]
    },
    {
     "data": {
      "text/plain": [
       "<sklearn.metrics._plot.confusion_matrix.ConfusionMatrixDisplay at 0x7fb092cd1be0>"
      ]
     },
     "execution_count": 9,
     "metadata": {},
     "output_type": "execute_result"
    },
    {
     "data": {
      "image/png": "[encoded data removed]",
      "text/plain": [
       "<Figure size 432x288 with 2 Axes>"
      ]
     },
     "metadata": {
      "needs_background": "light"
     },
     "output_type": "display_data"
    }
   ],
   "source": [
    "model_rbf_train = SVC(kernel='rbf', C = 4)\n",
    "model_rbf_train.fit(X_train_std, Y_train)\n",
    "print(f'SVM classifier accuracy: {model_rbf_train.score(X_train_std, Y_train), model_rbf_train.score(X_test_std, Y_test)}')\n",
    "\n",
    "plot_confusion_matrix(model_rbf_train, X_test_std, Y_test)"
   ]
  },
  {
   "cell_type": "code",
   "execution_count": 10,
   "id": "5cd50e55",
   "metadata": {},
   "outputs": [
    {
     "name": "stdout",
     "output_type": "stream",
     "text": [
      "[learning_curve] Training set sizes: [  50  600 1150 1700 2250 2800 3350 3900 4450 5000]\n"
     ]
    },
    {
     "name": "stderr",
     "output_type": "stream",
     "text": [
      "[Parallel(n_jobs=3)]: Using backend LokyBackend with 3 concurrent workers.\n",
      "[Parallel(n_jobs=3)]: Done  20 out of  20 | elapsed:  1.9min finished\n"
     ]
    }
   ],
   "source": [
    "train_sizes, train_scores, val_scores = learning_curve(model_rbf_train, X_train_std, Y_train, cv=2, scoring='accuracy', n_jobs=3, train_sizes=np.linspace(0.01, 1, 10), verbose=1)"
   ]
  },
  {
   "cell_type": "code",
   "execution_count": 11,
   "id": "658d4b04",
   "metadata": {},
   "outputs": [],
   "source": [
    "train_mean = np.mean(train_scores, axis = 1)\n",
    "train_std = np.std(train_scores, axis=1)\n",
    "val_mean = np.mean(val_scores, axis=1)\n",
    "val_std = np.std(val_scores, axis=1)"
   ]
  },
  {
   "cell_type": "code",
   "execution_count": 12,
   "id": "f2b76311",
   "metadata": {},
   "outputs": [
    {
     "data": {
      "image/png": "[encoded data removed]",
      "text/plain": [
       "<Figure size 432x288 with 1 Axes>"
      ]
     },
     "metadata": {
      "needs_background": "light"
     },
     "output_type": "display_data"
    }
   ],
   "source": [
    "plt.plot(train_sizes, train_mean, label='Training score')\n",
    "plt.plot(train_sizes, val_mean, label='Cross-validation score')\n",
    "plt.title('Learning curve')\n",
    "plt.xlabel('Training Size')\n",
    "plt.ylabel('Accuracy score')\n",
    "plt.legend(loc='best')\n",
    "plt.show()"
   ]
  },
  {
   "cell_type": "code",
   "execution_count": null,
   "id": "620655a8",
   "metadata": {},
   "outputs": [],
   "source": []
  },
  {
   "cell_type": "code",
   "execution_count": 13,
   "id": "1fc7e451",
   "metadata": {},
   "outputs": [
    {
     "data": {
      "text/html": [
       "<style>#sk-container-id-1 {color: black;background-color: white;}#sk-container-id-1 pre{padding: 0;}#sk-container-id-1 div.sk-toggleable {background-color: white;}#sk-container-id-1 label.sk-toggleable__label {cursor: pointer;display: block;width: 100%;margin-bottom: 0;padding: 0.3em;box-sizing: border-box;text-align: center;}#sk-container-id-1 label.sk-toggleable__label-arrow:before {content: \"▸\";float: left;margin-right: 0.25em;color: #696969;}#sk-container-id-1 label.sk-toggleable__label-arrow:hover:before {color: black;}#sk-container-id-1 div.sk-estimator:hover label.sk-toggleable__label-arrow:before {color: black;}#sk-container-id-1 div.sk-toggleable__content {max-height: 0;max-width: 0;overflow: hidden;text-align: left;background-color: #f0f8ff;}#sk-container-id-1 div.sk-toggleable__content pre {margin: 0.2em;color: black;border-radius: 0.25em;background-color: #f0f8ff;}#sk-container-id-1 input.sk-toggleable__control:checked~div.sk-toggleable__content {max-height: 200px;max-width: 100%;overflow: auto;}#sk-container-id-1 input.sk-toggleable__control:checked~label.sk-toggleable__label-arrow:before {content: \"▾\";}#sk-container-id-1 div.sk-estimator input.sk-toggleable__control:checked~label.sk-toggleable__label {background-color: #d4ebff;}#sk-container-id-1 div.sk-label input.sk-toggleable__control:checked~label.sk-toggleable__label {background-color: #d4ebff;}#sk-container-id-1 input.sk-hidden--visually {border: 0;clip: rect(1px 1px 1px 1px);clip: rect(1px, 1px, 1px, 1px);height: 1px;margin: -1px;overflow: hidden;padding: 0;position: absolute;width: 1px;}#sk-container-id-1 div.sk-estimator {font-family: monospace;background-color: #f0f8ff;border: 1px dotted black;border-radius: 0.25em;box-sizing: border-box;margin-bottom: 0.5em;}#sk-container-id-1 div.sk-estimator:hover {background-color: #d4ebff;}#sk-container-id-1 div.sk-parallel-item::after {content: \"\";width: 100%;border-bottom: 1px solid gray;flex-grow: 1;}#sk-container-id-1 div.sk-label:hover label.sk-toggleable__label {background-color: #d4ebff;}#sk-container-id-1 div.sk-serial::before {content: \"\";position: absolute;border-left: 1px solid gray;box-sizing: border-box;top: 0;bottom: 0;left: 50%;z-index: 0;}#sk-container-id-1 div.sk-serial {display: flex;flex-direction: column;align-items: center;background-color: white;padding-right: 0.2em;padding-left: 0.2em;position: relative;}#sk-container-id-1 div.sk-item {position: relative;z-index: 1;}#sk-container-id-1 div.sk-parallel {display: flex;align-items: stretch;justify-content: center;background-color: white;position: relative;}#sk-container-id-1 div.sk-item::before, #sk-container-id-1 div.sk-parallel-item::before {content: \"\";position: absolute;border-left: 1px solid gray;box-sizing: border-box;top: 0;bottom: 0;left: 50%;z-index: -1;}#sk-container-id-1 div.sk-parallel-item {display: flex;flex-direction: column;z-index: 1;position: relative;background-color: white;}#sk-container-id-1 div.sk-parallel-item:first-child::after {align-self: flex-end;width: 50%;}#sk-container-id-1 div.sk-parallel-item:last-child::after {align-self: flex-start;width: 50%;}#sk-container-id-1 div.sk-parallel-item:only-child::after {width: 0;}#sk-container-id-1 div.sk-dashed-wrapped {border: 1px dashed gray;margin: 0 0.4em 0.5em 0.4em;box-sizing: border-box;padding-bottom: 0.4em;background-color: white;}#sk-container-id-1 div.sk-label label {font-family: monospace;font-weight: bold;display: inline-block;line-height: 1.2em;}#sk-container-id-1 div.sk-label-container {text-align: center;}#sk-container-id-1 div.sk-container {/* jupyter's `normalize.less` sets `[hidden] { display: none; }` but bootstrap.min.css set `[hidden] { display: none !important; }` so we also need the `!important` here to be able to override the default hidden behavior on the sphinx rendered scikit-learn.org. See: https://github.com/scikit-learn/scikit-learn/issues/21755 */display: inline-block !important;position: relative;}#sk-container-id-1 div.sk-text-repr-fallback {display: none;}</style><div id=\"sk-container-id-1\" class=\"sk-top-container\"><div class=\"sk-text-repr-fallback\"><pre>SVC(C=4)</pre><b>In a Jupyter environment, please rerun this cell to show the HTML representation or trust the notebook. <br />On GitHub, the HTML representation is unable to render, please try loading this page with nbviewer.org.</b></div><div class=\"sk-container\" hidden><div class=\"sk-item\"><div class=\"sk-estimator sk-toggleable\"><input class=\"sk-toggleable__control sk-hidden--visually\" id=\"sk-estimator-id-1\" type=\"checkbox\" checked><label for=\"sk-estimator-id-1\" class=\"sk-toggleable__label sk-toggleable__label-arrow\">SVC</label><div class=\"sk-toggleable__content\"><pre>SVC(C=4)</pre></div></div></div></div></div>"
      ],
      "text/plain": [
       "SVC(C=4)"
      ]
     },
     "execution_count": 13,
     "metadata": {},
     "output_type": "execute_result"
    }
   ],
   "source": [
    "model_rbf_test = SVC(kernel='rbf', C = 4)\n",
    "model_rbf_test.fit(X_test_std, Y_test)"
   ]
  },
  {
   "cell_type": "code",
   "execution_count": 14,
   "id": "61b0e448",
   "metadata": {},
   "outputs": [
    {
     "name": "stdout",
     "output_type": "stream",
     "text": [
      "[learning_curve] Training set sizes: [  50  600 1150 1700 2250 2800 3350 3900 4450 5000]\n"
     ]
    },
    {
     "name": "stderr",
     "output_type": "stream",
     "text": [
      "[Parallel(n_jobs=3)]: Using backend LokyBackend with 3 concurrent workers.\n",
      "[Parallel(n_jobs=3)]: Done  20 out of  20 | elapsed:  1.4min finished\n"
     ]
    }
   ],
   "source": [
    "test_sizes, test_scores, val_scores = learning_curve(model_rbf_test, X_test_std, Y_test, cv=2, scoring='accuracy', n_jobs=3, train_sizes=np.linspace(0.01, 1, 10), verbose=1)"
   ]
  },
  {
   "cell_type": "code",
   "execution_count": 15,
   "id": "4978872b",
   "metadata": {},
   "outputs": [],
   "source": [
    "test_mean = np.mean(test_scores, axis = 1)\n",
    "test_std = np.std(test_scores, axis=1)\n",
    "val_mean = np.mean(val_scores, axis=1)\n",
    "val_std = np.std(val_scores, axis=1)"
   ]
  },
  {
   "cell_type": "code",
   "execution_count": 16,
   "id": "064d6b67",
   "metadata": {},
   "outputs": [
    {
     "data": {
      "image/png": "[encoded data removed]",
      "text/plain": [
       "<Figure size 432x288 with 1 Axes>"
      ]
     },
     "metadata": {
      "needs_background": "light"
     },
     "output_type": "display_data"
    }
   ],
   "source": [
    "plt.plot(test_sizes, test_mean, label='Testing score')\n",
    "plt.plot(test_sizes, val_mean, label='Cross-validation score')\n",
    "plt.title('Learning curve')\n",
    "plt.xlabel('Testing Size')\n",
    "plt.ylabel('Accuracy score')\n",
    "plt.legend(loc='best')\n",
    "plt.show()"
   ]
  },
  {
   "cell_type": "code",
   "execution_count": 28,
   "id": "f46d6fe7",
   "metadata": {},
   "outputs": [
    {
     "name": "stdout",
     "output_type": "stream",
     "text": [
      "Fitting 3 folds for each of 16 candidates, totalling 48 fits\n"
     ]
    },
    {
     "data": {
      "text/plain": [
       "{'C': 5, 'gamma': 0.001}"
      ]
     },
     "execution_count": 28,
     "metadata": {},
     "output_type": "execute_result"
    },
    {
     "name": "stdout",
     "output_type": "stream",
     "text": [
      "[CV 1/3] END C=1, gamma=0.0001;, score=(train=0.817, test=0.805) total time=  49.5s\n",
      "[CV 1/3] END C=3, gamma=0.01;, score=(train=1.000, test=0.730) total time= 2.4min\n",
      "[CV 2/3] END C=3, gamma=1e-05;, score=(train=0.768, test=0.773) total time= 1.2min\n",
      "[CV 1/3] END C=5, gamma=0.0001;, score=(train=0.872, test=0.840) total time=  43.2s\n",
      "[CV 3/3] END C=5, gamma=1e-05;, score=(train=0.794, test=0.777) total time=  55.8s\n",
      "[CV 2/3] END C=10, gamma=0.0001;, score=(train=0.889, test=0.852) total time=  35.2s\n",
      "[CV 2/3] END C=1, gamma=0.0001;, score=(train=0.814, test=0.806) total time=  49.3s\n",
      "[CV 3/3] END C=1, gamma=1e-05;, score=(train=0.730, test=0.718) total time= 1.7min\n",
      "[CV 2/3] END C=3, gamma=0.0001;, score=(train=0.851, test=0.835) total time=  36.3s\n",
      "[CV 2/3] END C=5, gamma=0.01;, score=(train=1.000, test=0.728) total time= 2.5min\n",
      "[CV 1/3] END C=10, gamma=0.001;, score=(train=0.987, test=0.866) total time=  35.0s\n",
      "[CV 3/3] END C=10, gamma=0.0001;, score=(train=0.891, test=0.847) total time=  34.3s\n",
      "[CV 2/3] END C=1, gamma=0.001;, score=(train=0.903, test=0.855) total time=  41.3s\n",
      "[CV 2/3] END C=1, gamma=1e-05;, score=(train=0.727, test=0.731) total time= 1.7min\n",
      "[CV 1/3] END C=3, gamma=0.0001;, score=(train=0.851, test=0.830) total time=  39.0s\n",
      "[CV 1/3] END C=5, gamma=0.01;, score=(train=1.000, test=0.730) total time= 2.5min\n",
      "[CV 2/3] END C=10, gamma=0.01;, score=(train=1.000, test=0.728) total time= 2.0min\n",
      "[CV 3/3] END C=1, gamma=0.001;, score=(train=0.903, test=0.854) total time=  40.7s\n",
      "[CV 3/3] END C=1, gamma=0.0001;, score=(train=0.819, test=0.796) total time=  54.5s\n",
      "[CV 2/3] END C=3, gamma=0.01;, score=(train=1.000, test=0.727) total time= 2.2min\n",
      "[CV 1/3] END C=5, gamma=0.001;, score=(train=0.969, test=0.868) total time=  47.6s\n",
      "[CV 3/3] END C=5, gamma=0.0001;, score=(train=0.870, test=0.830) total time=  41.1s\n",
      "[CV 3/3] END C=10, gamma=0.01;, score=(train=1.000, test=0.743) total time= 2.0min\n",
      "[CV 1/3] END C=1, gamma=0.001;, score=(train=0.908, test=0.850) total time=  41.0s\n",
      "[CV 1/3] END C=1, gamma=1e-05;, score=(train=0.729, test=0.728) total time= 1.7min\n",
      "[CV 3/3] END C=3, gamma=0.001;, score=(train=0.953, test=0.871) total time=  37.1s\n",
      "[CV 3/3] END C=3, gamma=1e-05;, score=(train=0.772, test=0.763) total time= 1.4min\n",
      "[CV 2/3] END C=5, gamma=0.0001;, score=(train=0.869, test=0.841) total time=  42.9s\n",
      "[CV 1/3] END C=10, gamma=0.01;, score=(train=1.000, test=0.730) total time= 2.0min\n",
      "[CV 3/3] END C=1, gamma=0.01;, score=(train=0.996, test=0.726) total time= 2.1min\n",
      "[CV 1/3] END C=3, gamma=0.001;, score=(train=0.953, test=0.864) total time=  41.5s\n",
      "[CV 3/3] END C=3, gamma=0.0001;, score=(train=0.856, test=0.820) total time=  35.9s\n",
      "[CV 3/3] END C=5, gamma=0.01;, score=(train=1.000, test=0.743) total time= 2.5min\n",
      "[CV 2/3] END C=10, gamma=0.001;, score=(train=0.987, test=0.869) total time=  35.0s\n",
      "[CV 1/3] END C=10, gamma=1e-05;, score=(train=0.817, test=0.807) total time=  48.3s\n",
      "[CV 2/3] END C=1, gamma=0.01;, score=(train=0.994, test=0.713) total time= 2.1min\n",
      "[CV 3/3] END C=3, gamma=0.01;, score=(train=1.000, test=0.743) total time= 2.1min\n",
      "[CV 2/3] END C=5, gamma=0.001;, score=(train=0.968, test=0.871) total time=  37.8s\n",
      "[CV 1/3] END C=5, gamma=1e-05;, score=(train=0.793, test=0.787) total time= 1.1min\n",
      "[CV 3/3] END C=10, gamma=0.001;, score=(train=0.988, test=0.869) total time=  32.4s\n",
      "[CV 2/3] END C=10, gamma=1e-05;, score=(train=0.813, test=0.809) total time=  46.5s\n",
      "[CV 1/3] END C=1, gamma=0.01;, score=(train=0.994, test=0.715) total time= 2.1min\n",
      "[CV 2/3] END C=3, gamma=0.001;, score=(train=0.950, test=0.868) total time=  41.5s\n",
      "[CV 1/3] END C=3, gamma=1e-05;, score=(train=0.774, test=0.767) total time= 1.1min\n",
      "[CV 3/3] END C=5, gamma=0.001;, score=(train=0.970, test=0.870) total time=  37.1s\n",
      "[CV 2/3] END C=5, gamma=1e-05;, score=(train=0.789, test=0.789) total time= 1.0min\n",
      "[CV 1/3] END C=10, gamma=0.0001;, score=(train=0.895, test=0.848) total time=  31.1s\n",
      "[CV 3/3] END C=10, gamma=1e-05;, score=(train=0.818, test=0.795) total time=  45.1s\n"
     ]
    }
   ],
   "source": [
    "\n",
    "hyper_params = [ {'gamma': [1e-2, 1e-3, 1e-4, 1e-5],\n",
    "                     'C': [1, 3, 5, 10]}]\n",
    "\n",
    "\n",
    "model_rbf_train = SVC(kernel='rbf')\n",
    "\n",
    "model_rbf_train_cv = GridSearchCV(estimator = model_rbf_train, \n",
    "                        param_grid = hyper_params, \n",
    "                        scoring= 'accuracy', \n",
    "                        cv = 3, \n",
    "                        verbose = 3,\n",
    "                        return_train_score=True,\n",
    "                        n_jobs=-1)      \n",
    "\n",
    "model_rbf_train_cv.fit(X_train_std, Y_train)\n",
    "model_rbf_train_cv.best_params_"
   ]
  },
  {
   "cell_type": "code",
   "execution_count": 25,
   "id": "b098bbae",
   "metadata": {},
   "outputs": [
    {
     "name": "stdout",
     "output_type": "stream",
     "text": [
      "0.9661\n",
      "0.8632\n"
     ]
    }
   ],
   "source": [
    "model_rbf_train5 = SVC(kernel='rbf', C = 5, gamma = 0.001)\n",
    "model_rbf_train5.fit(X_train_std, Y_train)\n",
    "print(model_rbf_train5.score(X_train_std, Y_train))\n",
    "print(model_rbf_train5.score(X_test_std, Y_test))"
   ]
  },
  {
   "cell_type": "code",
   "execution_count": 29,
   "id": "79296f43",
   "metadata": {},
   "outputs": [
    {
     "name": "stdout",
     "output_type": "stream",
     "text": [
      "0.908\n",
      "0.8516\n"
     ]
    }
   ],
   "source": [
    "model_rbf_train1 = SVC(kernel='rbf', C = 1, gamma = 0.001)\n",
    "model_rbf_train1.fit(X_train_std, Y_train)\n",
    "print(model_rbf_train1.score(X_train_std, Y_train))\n",
    "print(model_rbf_train1.score(X_test_std, Y_test))"
   ]
  },
  {
   "cell_type": "code",
   "execution_count": 30,
   "id": "ffa69b02",
   "metadata": {},
   "outputs": [
    {
     "name": "stdout",
     "output_type": "stream",
     "text": [
      "0.9847\n",
      "0.8644\n"
     ]
    }
   ],
   "source": [
    "model_rbf_train10 = SVC(kernel='rbf', C = 10, gamma = 0.001)\n",
    "model_rbf_train10.fit(X_train_std, Y_train)\n",
    "print(model_rbf_train10.score(X_train_std, Y_train))\n",
    "print(model_rbf_train10.score(X_test_std, Y_test))"
   ]
  },
  {
   "cell_type": "code",
   "execution_count": 32,
   "id": "ea6907fa",
   "metadata": {},
   "outputs": [
    {
     "name": "stdout",
     "output_type": "stream",
     "text": [
      "1.0\n",
      "0.7368\n"
     ]
    }
   ],
   "source": [
    "model_rbf_train_g01 = SVC(kernel='rbf', C = 5, gamma = 0.01)\n",
    "model_rbf_train_g01.fit(X_train_std, Y_train)\n",
    "print(model_rbf_train_g01.score(X_train_std, Y_train))\n",
    "print(model_rbf_train_g01.score(X_test_std, Y_test))"
   ]
  },
  {
   "cell_type": "code",
   "execution_count": 33,
   "id": "ad119d68",
   "metadata": {},
   "outputs": [
    {
     "name": "stdout",
     "output_type": "stream",
     "text": [
      "1.0\n",
      "0.1538\n"
     ]
    }
   ],
   "source": [
    "model_rbf_train_g1 = SVC(kernel='rbf', C = 5, gamma = 0.1)\n",
    "model_rbf_train_g1.fit(X_train_std, Y_train)\n",
    "print(model_rbf_train_g1.score(X_train_std, Y_train))\n",
    "print(model_rbf_train_g1.score(X_test_std, Y_test))"
   ]
  },
  {
   "cell_type": "code",
   "execution_count": 19,
   "id": "2e75bb44",
   "metadata": {},
   "outputs": [
    {
     "name": "stdout",
     "output_type": "stream",
     "text": [
      "0.9618\n"
     ]
    }
   ],
   "source": [
    "model_rbf_test5 = SVC(kernel='rbf', C = 5, gamma = 0.001)\n",
    "model_rbf_test5.fit(X_test_std, Y_test)\n",
    "print(model_rbf_test5.score(X_test_std, Y_test))"
   ]
  },
  {
   "cell_type": "code",
   "execution_count": null,
   "id": "ca861926",
   "metadata": {},
   "outputs": [],
   "source": []
  },
  {
   "cell_type": "code",
   "execution_count": 35,
   "id": "03fc39bf",
   "metadata": {},
   "outputs": [
    {
     "name": "stderr",
     "output_type": "stream",
     "text": [
      "/Users/emiljino/.local/lib/python3.9/site-packages/sklearn/utils/deprecation.py:87: FutureWarning: Function plot_confusion_matrix is deprecated; Function `plot_confusion_matrix` is deprecated in 1.0 and will be removed in 1.2. Use one of the class methods: ConfusionMatrixDisplay.from_predictions or ConfusionMatrixDisplay.from_estimator.\n",
      "  warnings.warn(msg, category=FutureWarning)\n"
     ]
    },
    {
     "data": {
      "text/plain": [
       "<sklearn.metrics._plot.confusion_matrix.ConfusionMatrixDisplay at 0x7fb071317e50>"
      ]
     },
     "execution_count": 35,
     "metadata": {},
     "output_type": "execute_result"
    },
    {
     "data": {
      "image/png": "[encoded data removed]",
      "text/plain": [
       "<Figure size 432x288 with 2 Axes>"
      ]
     },
     "metadata": {
      "needs_background": "light"
     },
     "output_type": "display_data"
    }
   ],
   "source": [
    "plot_confusion_matrix(model_rbf_train5, X_test_std, Y_test)"
   ]
  },
  {
   "cell_type": "code",
   "execution_count": 21,
   "id": "4ea6b52f",
   "metadata": {},
   "outputs": [],
   "source": [
    "pca = PCA(n_components=2, random_state=0)\n",
    "X_pca = pca.fit_transform(X_train_std)\n",
    "X_pca_test = pca.fit_transform(X_test_std)"
   ]
  },
  {
   "cell_type": "code",
   "execution_count": 22,
   "id": "da803628",
   "metadata": {},
   "outputs": [
    {
     "data": {
      "text/html": [
       "<style>#sk-container-id-2 {color: black;background-color: white;}#sk-container-id-2 pre{padding: 0;}#sk-container-id-2 div.sk-toggleable {background-color: white;}#sk-container-id-2 label.sk-toggleable__label {cursor: pointer;display: block;width: 100%;margin-bottom: 0;padding: 0.3em;box-sizing: border-box;text-align: center;}#sk-container-id-2 label.sk-toggleable__label-arrow:before {content: \"▸\";float: left;margin-right: 0.25em;color: #696969;}#sk-container-id-2 label.sk-toggleable__label-arrow:hover:before {color: black;}#sk-container-id-2 div.sk-estimator:hover label.sk-toggleable__label-arrow:before {color: black;}#sk-container-id-2 div.sk-toggleable__content {max-height: 0;max-width: 0;overflow: hidden;text-align: left;background-color: #f0f8ff;}#sk-container-id-2 div.sk-toggleable__content pre {margin: 0.2em;color: black;border-radius: 0.25em;background-color: #f0f8ff;}#sk-container-id-2 input.sk-toggleable__control:checked~div.sk-toggleable__content {max-height: 200px;max-width: 100%;overflow: auto;}#sk-container-id-2 input.sk-toggleable__control:checked~label.sk-toggleable__label-arrow:before {content: \"▾\";}#sk-container-id-2 div.sk-estimator input.sk-toggleable__control:checked~label.sk-toggleable__label {background-color: #d4ebff;}#sk-container-id-2 div.sk-label input.sk-toggleable__control:checked~label.sk-toggleable__label {background-color: #d4ebff;}#sk-container-id-2 input.sk-hidden--visually {border: 0;clip: rect(1px 1px 1px 1px);clip: rect(1px, 1px, 1px, 1px);height: 1px;margin: -1px;overflow: hidden;padding: 0;position: absolute;width: 1px;}#sk-container-id-2 div.sk-estimator {font-family: monospace;background-color: #f0f8ff;border: 1px dotted black;border-radius: 0.25em;box-sizing: border-box;margin-bottom: 0.5em;}#sk-container-id-2 div.sk-estimator:hover {background-color: #d4ebff;}#sk-container-id-2 div.sk-parallel-item::after {content: \"\";width: 100%;border-bottom: 1px solid gray;flex-grow: 1;}#sk-container-id-2 div.sk-label:hover label.sk-toggleable__label {background-color: #d4ebff;}#sk-container-id-2 div.sk-serial::before {content: \"\";position: absolute;border-left: 1px solid gray;box-sizing: border-box;top: 0;bottom: 0;left: 50%;z-index: 0;}#sk-container-id-2 div.sk-serial {display: flex;flex-direction: column;align-items: center;background-color: white;padding-right: 0.2em;padding-left: 0.2em;position: relative;}#sk-container-id-2 div.sk-item {position: relative;z-index: 1;}#sk-container-id-2 div.sk-parallel {display: flex;align-items: stretch;justify-content: center;background-color: white;position: relative;}#sk-container-id-2 div.sk-item::before, #sk-container-id-2 div.sk-parallel-item::before {content: \"\";position: absolute;border-left: 1px solid gray;box-sizing: border-box;top: 0;bottom: 0;left: 50%;z-index: -1;}#sk-container-id-2 div.sk-parallel-item {display: flex;flex-direction: column;z-index: 1;position: relative;background-color: white;}#sk-container-id-2 div.sk-parallel-item:first-child::after {align-self: flex-end;width: 50%;}#sk-container-id-2 div.sk-parallel-item:last-child::after {align-self: flex-start;width: 50%;}#sk-container-id-2 div.sk-parallel-item:only-child::after {width: 0;}#sk-container-id-2 div.sk-dashed-wrapped {border: 1px dashed gray;margin: 0 0.4em 0.5em 0.4em;box-sizing: border-box;padding-bottom: 0.4em;background-color: white;}#sk-container-id-2 div.sk-label label {font-family: monospace;font-weight: bold;display: inline-block;line-height: 1.2em;}#sk-container-id-2 div.sk-label-container {text-align: center;}#sk-container-id-2 div.sk-container {/* jupyter's `normalize.less` sets `[hidden] { display: none; }` but bootstrap.min.css set `[hidden] { display: none !important; }` so we also need the `!important` here to be able to override the default hidden behavior on the sphinx rendered scikit-learn.org. See: https://github.com/scikit-learn/scikit-learn/issues/21755 */display: inline-block !important;position: relative;}#sk-container-id-2 div.sk-text-repr-fallback {display: none;}</style><div id=\"sk-container-id-2\" class=\"sk-top-container\"><div class=\"sk-text-repr-fallback\"><pre>SVC(C=5, gamma=0.001)</pre><b>In a Jupyter environment, please rerun this cell to show the HTML representation or trust the notebook. <br />On GitHub, the HTML representation is unable to render, please try loading this page with nbviewer.org.</b></div><div class=\"sk-container\" hidden><div class=\"sk-item\"><div class=\"sk-estimator sk-toggleable\"><input class=\"sk-toggleable__control sk-hidden--visually\" id=\"sk-estimator-id-2\" type=\"checkbox\" checked><label for=\"sk-estimator-id-2\" class=\"sk-toggleable__label sk-toggleable__label-arrow\">SVC</label><div class=\"sk-toggleable__content\"><pre>SVC(C=5, gamma=0.001)</pre></div></div></div></div></div>"
      ],
      "text/plain": [
       "SVC(C=5, gamma=0.001)"
      ]
     },
     "execution_count": 22,
     "metadata": {},
     "output_type": "execute_result"
    }
   ],
   "source": [
    "model_rbf_test5.fit(X_pca, Y_train)\n"
   ]
  },
  {
   "cell_type": "code",
   "execution_count": 23,
   "id": "ae2adb21",
   "metadata": {},
   "outputs": [
    {
     "data": {
      "text/plain": [
       "<function matplotlib.pyplot.show(close=None, block=None)>"
      ]
     },
     "execution_count": 23,
     "metadata": {},
     "output_type": "execute_result"
    },
    {
     "data": {
      "text/plain": [
       "<Figure size 432x288 with 0 Axes>"
      ]
     },
     "metadata": {},
     "output_type": "display_data"
    },
    {
     "data": {
      "image/png": "[encoded data removed]",
      "text/plain": [
       "<Figure size 432x288 with 1 Axes>"
      ]
     },
     "metadata": {
      "needs_background": "light"
     },
     "output_type": "display_data"
    }
   ],
   "source": [
    "plt.viridis()\n",
    "DecisionBoundaryDisplay.from_estimator(model_rbf_test5, X_pca ,response_method='predict',plot_method='pcolormesh')\n",
    "plt_title= 'Decision Boundary ANN', \n",
    "plt.xlabel=('PC-1')\n",
    "plt.ylabel= ('PC-2')\n",
    "plt.show\n"
   ]
  },
  {
   "cell_type": "code",
   "execution_count": 49,
   "id": "e7a0e2be",
   "metadata": {},
   "outputs": [
    {
     "name": "stdout",
     "output_type": "stream",
     "text": [
      "Total training time: 10.87 seconds\n",
      "Training set accuracy: 0.9661\n",
      "Test set accuracy: 0.8632\n"
     ]
    }
   ],
   "source": [
    "\n",
    "\n",
    "start = time.time()\n",
    "\n",
    "model_rbf_train5 = SVC(kernel='rbf', C = 5, gamma = 0.001)\n",
    "model_rbf_train5.fit(X_train_std, Y_train)\n",
    "\n",
    "end = time.time()\n",
    "\n",
    "elapsed_time1 = end-start\n",
    "print(\"Total training time: {:.2f} seconds\".format(elapsed_time1))\n",
    "\n",
    "print(\"Training set accuracy: {}\".format(model_rbf_train5.score(X_train_std, Y_train)))\n",
    "print(\"Test set accuracy: {}\".format(model_rbf_train5.score(X_test_std, Y_test)))\n"
   ]
  },
  {
   "cell_type": "code",
   "execution_count": 50,
   "id": "9e47115f",
   "metadata": {},
   "outputs": [
    {
     "name": "stdout",
     "output_type": "stream",
     "text": [
      "Total training time: 41.22 seconds\n",
      "Training set accuracy: 0.9942\n",
      "Test set accuracy: 0.8579\n"
     ]
    },
    {
     "name": "stderr",
     "output_type": "stream",
     "text": [
      "/Users/emiljino/.local/lib/python3.9/site-packages/sklearn/neural_network/_multilayer_perceptron.py:702: ConvergenceWarning: Stochastic Optimizer: Maximum iterations (500) reached and the optimization hasn't converged yet.\n",
      "  warnings.warn(\n"
     ]
    }
   ],
   "source": [
    "\n",
    "\n",
    "start = time.time()\n",
    "\n",
    "nn_clf_best = MLPClassifier(hidden_layer_sizes=(64),\n",
    "                    activation='relu',\n",
    "                    solver='adam',\n",
    "                    #alpha=0.7564633275546291,\n",
    "                    #learning_rate_init=0.0003853528593710527,\n",
    "                    alpha=0.572236765935022,\n",
    "                    learning_rate_init=0.00020092330025650479,\n",
    "                    max_iter=500,\n",
    "                    n_iter_no_change=25,\n",
    "                    random_state=1)\n",
    "\n",
    "nn_clf_best.fit(X_train_std, Y_train)\n",
    "\n",
    "end = time.time()\n",
    "\n",
    "elapsed_time2 = end-start\n",
    "print(\"Total training time: {:.2f} seconds\".format(elapsed_time2))\n",
    "\n",
    "\n",
    "print(\"Training set accuracy: {}\".format(nn_clf_best.score(X_train_std, Y_train)))\n",
    "print(\"Test set accuracy: {}\".format(nn_clf_best.score(X_test_std, Y_test)))\n"
   ]
  },
  {
   "cell_type": "code",
   "execution_count": 56,
   "id": "355b6c1e",
   "metadata": {},
   "outputs": [
    {
     "ename": "TypeError",
     "evalue": "'str' object is not callable",
     "output_type": "error",
     "traceback": [
      "\u001b[0;31m---------------------------------------------------------------------------\u001b[0m",
      "\u001b[0;31mTypeError\u001b[0m                                 Traceback (most recent call last)",
      "Input \u001b[0;32mIn [56]\u001b[0m, in \u001b[0;36m<cell line: 2>\u001b[0;34m()\u001b[0m\n\u001b[1;32m      1\u001b[0m plt\u001b[38;5;241m.\u001b[39mbar([\u001b[38;5;241m1\u001b[39m, \u001b[38;5;241m2\u001b[39m], [elapsed_time1, elapsed_time2], width\u001b[38;5;241m=\u001b[39m\u001b[38;5;241m0.5\u001b[39m, tick_label\u001b[38;5;241m=\u001b[39m[\u001b[38;5;124m'\u001b[39m\u001b[38;5;124mSVM\u001b[39m\u001b[38;5;124m'\u001b[39m, \u001b[38;5;124m'\u001b[39m\u001b[38;5;124mANN\u001b[39m\u001b[38;5;124m'\u001b[39m])\n\u001b[0;32m----> 2\u001b[0m \u001b[43mplt\u001b[49m\u001b[38;5;241;43m.\u001b[39;49m\u001b[43mxlabel\u001b[49m\u001b[43m(\u001b[49m\u001b[38;5;124;43m\"\u001b[39;49m\u001b[38;5;124;43mModel\u001b[39;49m\u001b[38;5;124;43m\"\u001b[39;49m\u001b[43m)\u001b[49m\n\u001b[1;32m      3\u001b[0m plt\u001b[38;5;241m.\u001b[39mylabel(\u001b[38;5;124m'\u001b[39m\u001b[38;5;124mTraining Time\u001b[39m\u001b[38;5;124m'\u001b[39m)\n\u001b[1;32m      4\u001b[0m plt\u001b[38;5;241m.\u001b[39mtitle(\u001b[38;5;124m'\u001b[39m\u001b[38;5;124mTraining Time Comparison\u001b[39m\u001b[38;5;124m'\u001b[39m)\n",
      "\u001b[0;31mTypeError\u001b[0m: 'str' object is not callable"
     ]
    },
    {
     "data": {
      "image/png": "[encoded data removed]",
      "text/plain": [
       "<Figure size 432x288 with 1 Axes>"
      ]
     },
     "metadata": {
      "needs_background": "light"
     },
     "output_type": "display_data"
    }
   ],
   "source": [
    "plt.bar([1, 2], [elapsed_time1, elapsed_time2], width=0.5, tick_label=['SVM', 'ANN'])\n",
    "plt.xlabel('Model')\n",
    "plt.ylabel('Training Time')\n",
    "plt.title('Training Time Comparison')\n",
    "plt.show()"
   ]
  }
 ],
 "metadata": {
  "kernelspec": {
   "display_name": "Python 3 (ipykernel)",
   "language": "python",
   "name": "python3"
  },
  "language_info": {
   "codemirror_mode": {
    "name": "ipython",
    "version": 3
   },
   "file_extension": ".py",
   "mimetype": "text/x-python",
   "name": "python",
   "nbconvert_exporter": "python",
   "pygments_lexer": "ipython3",
   "version": "3.9.12"
  }
 },
 "nbformat": 4,
 "nbformat_minor": 5
}
